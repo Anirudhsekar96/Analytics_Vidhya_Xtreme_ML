{
 "cells": [
  {
   "cell_type": "code",
   "execution_count": 1,
   "metadata": {
    "collapsed": true
   },
   "outputs": [],
   "source": [
    "import numpy as np\n",
    "import pandas as pd\n",
    "import matplotlib.pyplot as plt\n",
    "%matplotlib inline\n",
    "from sklearn.linear_model import LogisticRegression\n",
    "from sklearn.preprocessing import StandardScaler\n",
    "from sklearn.decomposition import PCA\n",
    "from sklearn.pipeline import Pipeline\n",
    "from sklearn.model_selection import cross_val_predict\n",
    "from sklearn.metrics import classification_report,confusion_matrix\n",
    "from sklearn.model_selection import train_test_split\n",
    "from sklearn.ensemble import VotingClassifier\n",
    "from sklearn.externals import joblib\n",
    "from sklearn.ensemble import GradientBoostingClassifier\n",
    "from sklearn.metrics import log_loss"
   ]
  },
  {
   "cell_type": "code",
   "execution_count": 3,
   "metadata": {},
   "outputs": [],
   "source": [
    "contacts_pre_2017=pd.read_csv('Contacts_Pre_2017.csv')\n",
    "resolution_pre_2017=pd.read_csv('Resolution_Pre_2017.csv', encoding='iso8859-1')\n",
    "\n",
    "contacts2017=pd.read_csv('Contacts2017.csv')\n",
    "resolution2017=pd.read_csv('Resolution2017.csv')"
   ]
  },
  {
   "cell_type": "code",
   "execution_count": 4,
   "metadata": {},
   "outputs": [
    {
     "data": {
      "text/html": [
       "<div>\n",
       "<table border=\"1\" class=\"dataframe\">\n",
       "  <thead>\n",
       "    <tr style=\"text-align: right;\">\n",
       "      <th></th>\n",
       "      <th>CONTACT.TYPE</th>\n",
       "      <th>Contacts</th>\n",
       "    </tr>\n",
       "  </thead>\n",
       "  <tbody>\n",
       "    <tr>\n",
       "      <th>0</th>\n",
       "      <td>Call - Input</td>\n",
       "      <td>0</td>\n",
       "    </tr>\n",
       "    <tr>\n",
       "      <th>1</th>\n",
       "      <td>Fax - Input</td>\n",
       "      <td>0</td>\n",
       "    </tr>\n",
       "    <tr>\n",
       "      <th>2</th>\n",
       "      <td>Fax Acknowledgement - Input</td>\n",
       "      <td>0</td>\n",
       "    </tr>\n",
       "    <tr>\n",
       "      <th>3</th>\n",
       "      <td>Installation Report - Input</td>\n",
       "      <td>0</td>\n",
       "    </tr>\n",
       "    <tr>\n",
       "      <th>4</th>\n",
       "      <td>Internal Management</td>\n",
       "      <td>0</td>\n",
       "    </tr>\n",
       "    <tr>\n",
       "      <th>5</th>\n",
       "      <td>Mail - Input</td>\n",
       "      <td>0</td>\n",
       "    </tr>\n",
       "    <tr>\n",
       "      <th>6</th>\n",
       "      <td>Mail - Recieved</td>\n",
       "      <td>0</td>\n",
       "    </tr>\n",
       "    <tr>\n",
       "      <th>7</th>\n",
       "      <td>Tweet - Input</td>\n",
       "      <td>0</td>\n",
       "    </tr>\n",
       "    <tr>\n",
       "      <th>8</th>\n",
       "      <td>Visit</td>\n",
       "      <td>0</td>\n",
       "    </tr>\n",
       "    <tr>\n",
       "      <th>9</th>\n",
       "      <td>Web - Input</td>\n",
       "      <td>0</td>\n",
       "    </tr>\n",
       "  </tbody>\n",
       "</table>\n",
       "</div>"
      ],
      "text/plain": [
       "                  CONTACT.TYPE  Contacts\n",
       "0                 Call - Input         0\n",
       "1                  Fax - Input         0\n",
       "2  Fax Acknowledgement - Input         0\n",
       "3  Installation Report - Input         0\n",
       "4          Internal Management         0\n",
       "5                 Mail - Input         0\n",
       "6              Mail - Recieved         0\n",
       "7                Tweet - Input         0\n",
       "8                        Visit         0\n",
       "9                  Web - Input         0"
      ]
     },
     "execution_count": 4,
     "metadata": {},
     "output_type": "execute_result"
    }
   ],
   "source": [
    "pd.DataFrame({'Contacts' : contacts2017.groupby(['CONTACT.TYPE'] )['Contacts'].count()}).reset_index()"
   ]
  },
  {
   "cell_type": "code",
   "execution_count": 5,
   "metadata": {
    "collapsed": true
   },
   "outputs": [],
   "source": [
    "CI = contacts2017.loc[contacts2017['CONTACT.TYPE'] == 'Call - Input']\n",
    "FI = contacts2017.loc[contacts2017['CONTACT.TYPE'] == 'Fax - Input']\n",
    "FAI = contacts2017.loc[contacts2017['CONTACT.TYPE'] == 'Fax Acknowledgement - Input']\n",
    "IR = contacts2017.loc[contacts2017['CONTACT.TYPE'] == 'Installation Report - Input']\n",
    "IM = contacts2017.loc[contacts2017['CONTACT.TYPE'] == 'Internal Management']\n",
    "MI = contacts2017.loc[contacts2017['CONTACT.TYPE'] == 'Mail - Input']\n",
    "MR = contacts2017.loc[contacts2017['CONTACT.TYPE'] == 'Mail - Recieved']\n",
    "TI = contacts2017.loc[contacts2017['CONTACT.TYPE'] == 'Tweet - Input']\n",
    "WI = contacts2017.loc[contacts2017['CONTACT.TYPE'] == 'Web - Input']"
   ]
  },
  {
   "cell_type": "code",
   "execution_count": 6,
   "metadata": {
    "collapsed": true
   },
   "outputs": [],
   "source": [
    "CI.to_csv(\"CI_test.csv\",index=False)\n",
    "FI.to_csv(\"FI_test.csv\",index=False)\n",
    "FAI.to_csv(\"FAI_test.csv\",index=False)\n",
    "IR.to_csv(\"IR_test.csv\",index=False)\n",
    "IM.to_csv(\"IM_test.csv\",index=False)\n",
    "MI.to_csv(\"MI_test.csv\",index=False)\n",
    "MR.to_csv(\"MR_test.csv\",index=False)\n",
    "TI.to_csv(\"TI_test.csv\",index=False)\n",
    "WI.to_csv(\"WI_test.csv\",index=False)"
   ]
  },
  {
   "cell_type": "code",
   "execution_count": null,
   "metadata": {
    "collapsed": true
   },
   "outputs": [],
   "source": []
  }
 ],
 "metadata": {
  "kernelspec": {
   "display_name": "Python [Root]",
   "language": "python",
   "name": "Python [Root]"
  },
  "language_info": {
   "codemirror_mode": {
    "name": "ipython",
    "version": 2
   },
   "file_extension": ".py",
   "mimetype": "text/x-python",
   "name": "python",
   "nbconvert_exporter": "python",
   "pygments_lexer": "ipython2",
   "version": "2.7.11"
  }
 },
 "nbformat": 4,
 "nbformat_minor": 1
}
