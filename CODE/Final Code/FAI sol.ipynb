{
 "cells": [
  {
   "cell_type": "code",
   "execution_count": 1,
   "metadata": {},
   "outputs": [
    {
     "data": {
      "image/png": "[encoded data removed]",
      "text/plain": [
       "<matplotlib.figure.Figure at 0xc17d710>"
      ]
     },
     "metadata": {},
     "output_type": "display_data"
    }
   ],
   "source": [
    "import pandas as pd\n",
    "import matplotlib.pyplot as plt\n",
    "%matplotlib inline\n",
    "from sklearn.linear_model import LogisticRegression\n",
    "from sklearn.preprocessing import StandardScaler\n",
    "from sklearn.decomposition import PCA\n",
    "from sklearn.pipeline import Pipeline\n",
    "from sklearn.model_selection import cross_val_predict\n",
    "from sklearn.metrics import classification_report,confusion_matrix\n",
    "from sklearn.model_selection import train_test_split\n",
    "from sklearn.ensemble import VotingClassifier\n",
    "from sklearn.externals import joblib\n",
    "from sklearn.ensemble import GradientBoostingClassifier\n",
    "from sklearn.metrics import log_loss\n",
    "FI = pd.read_csv(\"FAI_test.csv\")\n",
    "FI.head()\n",
    "import datetime\n",
    "FI['Date'] = FI['Date'].apply(lambda x: datetime.datetime.strptime(x,'%Y-%m-%d'))\n",
    "FI['NEW_SECONDS'] = FI['Date'].apply(lambda x: (x-datetime.datetime(2010,1,1)).total_seconds())\n",
    "sum_fin = FI['NEW_SECONDS']\n",
    "sum_fin.to_csv(\"FAI_test_Seconds.csv\")\n",
    "clf = joblib.load('FAI.pkl')\n",
    "X =  FI['NEW_SECONDS'].values\n",
    "X = X.reshape(-1, 1)\n",
    "\n",
    "val = clf.predict(X)\n",
    "\n",
    "#plt.scatter(X, val, color='darkorange', label='data')\n",
    "plt.hold('on')\n",
    "plt.plot(X, val, color='navy', label='RBF model')\n",
    "#plt.plot(X, y_lin, color='c', lw=lw, label='Linear model')\n",
    "#plt.plot(X, y_poly, color='cornflowerblue', lw=lw, label='Polynomial model')\n",
    "plt.xlabel('data')\n",
    "plt.ylabel('target')\n",
    "plt.title('Support Vector Regression')\n",
    "plt.legend()\n",
    "plt.show()\n",
    "\n",
    "d_f_S = {\"ID\": FI.ID,\"Contacts\":val}\n",
    "dfff = pd.DataFrame(data=d_f_S)\n",
    "dfff.head()\n",
    "dfff.to_csv(\"sol_FAI.csv\",index=False)"
   ]
  },
  {
   "cell_type": "code",
   "execution_count": null,
   "metadata": {
    "collapsed": true
   },
   "outputs": [],
   "source": []
  }
 ],
 "metadata": {
  "kernelspec": {
   "display_name": "Python [Root]",
   "language": "python",
   "name": "Python [Root]"
  },
  "language_info": {
   "codemirror_mode": {
    "name": "ipython",
    "version": 2
   },
   "file_extension": ".py",
   "mimetype": "text/x-python",
   "name": "python",
   "nbconvert_exporter": "python",
   "pygments_lexer": "ipython2",
   "version": "2.7.11"
  }
 },
 "nbformat": 4,
 "nbformat_minor": 1
}
