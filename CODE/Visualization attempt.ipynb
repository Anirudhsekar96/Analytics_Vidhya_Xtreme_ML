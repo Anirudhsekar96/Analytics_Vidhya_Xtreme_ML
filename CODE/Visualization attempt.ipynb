{
 "cells": [
  {
   "cell_type": "code",
   "execution_count": 1,
   "metadata": {
    "collapsed": true
   },
   "outputs": [],
   "source": [
    "import numpy as np\n",
    "import pandas as pd\n",
    "import matplotlib.pyplot as plt\n",
    "%matplotlib inline\n",
    "from sklearn.linear_model import LogisticRegression\n",
    "from sklearn.preprocessing import StandardScaler\n",
    "from sklearn.decomposition import PCA\n",
    "from sklearn.pipeline import Pipeline\n",
    "from sklearn.model_selection import cross_val_predict\n",
    "from sklearn.metrics import classification_report,confusion_matrix\n",
    "from sklearn.model_selection import train_test_split\n",
    "from sklearn.ensemble import VotingClassifier\n",
    "from sklearn.externals import joblib\n",
    "from sklearn.ensemble import GradientBoostingClassifier\n",
    "from sklearn.metrics import log_loss"
   ]
  },
  {
   "cell_type": "code",
   "execution_count": 2,
   "metadata": {
    "collapsed": true
   },
   "outputs": [],
   "source": [
    "df = pd.read_csv(\"new_with_date.csv\")"
   ]
  },
  {
   "cell_type": "code",
   "execution_count": 6,
   "metadata": {
    "collapsed": true
   },
   "outputs": [],
   "source": [
    "import matplotlib\n",
    "matplotlib.style.use('ggplot')"
   ]
  },
  {
   "cell_type": "code",
   "execution_count": 7,
   "metadata": {},
   "outputs": [
    {
     "data": {
      "text/html": [
       "<div>\n",
       "<table border=\"1\" class=\"dataframe\">\n",
       "  <thead>\n",
       "    <tr style=\"text-align: right;\">\n",
       "      <th></th>\n",
       "      <th>aaDate</th>\n",
       "      <th>MUNICIPALITY</th>\n",
       "      <th>YEAR_CONTRACT</th>\n",
       "      <th>MONTH_CONTRACT</th>\n",
       "      <th>DAY_ALTA_CONTR</th>\n",
       "      <th>CENSUS SECTION</th>\n",
       "      <th>WATER_USAGE</th>\n",
       "      <th>TYPE_OF_HOUSEHOLD</th>\n",
       "      <th>NUMBER_OF_CONTRACTS</th>\n",
       "    </tr>\n",
       "  </thead>\n",
       "  <tbody>\n",
       "    <tr>\n",
       "      <th>0</th>\n",
       "      <td>2016-01-01</td>\n",
       "      <td>BADALONA</td>\n",
       "      <td>2016</td>\n",
       "      <td>jan.</td>\n",
       "      <td>1</td>\n",
       "      <td>801509017</td>\n",
       "      <td>HOUSEHOLD</td>\n",
       "      <td>D</td>\n",
       "      <td>1</td>\n",
       "    </tr>\n",
       "    <tr>\n",
       "      <th>1</th>\n",
       "      <td>2016-01-01</td>\n",
       "      <td>GAVA</td>\n",
       "      <td>2016</td>\n",
       "      <td>jan.</td>\n",
       "      <td>1</td>\n",
       "      <td>808901007</td>\n",
       "      <td>HOUSEHOLD</td>\n",
       "      <td>W</td>\n",
       "      <td>1</td>\n",
       "    </tr>\n",
       "    <tr>\n",
       "      <th>2</th>\n",
       "      <td>2016-01-01</td>\n",
       "      <td>STA.COLOMA GRAMENET</td>\n",
       "      <td>2016</td>\n",
       "      <td>jan.</td>\n",
       "      <td>1</td>\n",
       "      <td>824504004</td>\n",
       "      <td>HOUSEHOLD</td>\n",
       "      <td>B</td>\n",
       "      <td>1</td>\n",
       "    </tr>\n",
       "    <tr>\n",
       "      <th>3</th>\n",
       "      <td>2016-01-01</td>\n",
       "      <td>STA.COLOMA GRAMENET</td>\n",
       "      <td>2016</td>\n",
       "      <td>jan.</td>\n",
       "      <td>1</td>\n",
       "      <td>824502002</td>\n",
       "      <td>HOUSEHOLD</td>\n",
       "      <td>B</td>\n",
       "      <td>1</td>\n",
       "    </tr>\n",
       "    <tr>\n",
       "      <th>4</th>\n",
       "      <td>2016-01-02</td>\n",
       "      <td>L'HOSPITALET LLOBR.</td>\n",
       "      <td>2016</td>\n",
       "      <td>jan.</td>\n",
       "      <td>2</td>\n",
       "      <td>810103006</td>\n",
       "      <td>HOUSEHOLD</td>\n",
       "      <td>C</td>\n",
       "      <td>1</td>\n",
       "    </tr>\n",
       "  </tbody>\n",
       "</table>\n",
       "</div>"
      ],
      "text/plain": [
       "       aaDate         MUNICIPALITY  YEAR_CONTRACT MONTH_CONTRACT  \\\n",
       "0  2016-01-01             BADALONA           2016           jan.   \n",
       "1  2016-01-01                 GAVA           2016           jan.   \n",
       "2  2016-01-01  STA.COLOMA GRAMENET           2016           jan.   \n",
       "3  2016-01-01  STA.COLOMA GRAMENET           2016           jan.   \n",
       "4  2016-01-02  L'HOSPITALET LLOBR.           2016           jan.   \n",
       "\n",
       "   DAY_ALTA_CONTR  CENSUS SECTION WATER_USAGE TYPE_OF_HOUSEHOLD  \\\n",
       "0               1       801509017   HOUSEHOLD                 D   \n",
       "1               1       808901007   HOUSEHOLD                 W   \n",
       "2               1       824504004   HOUSEHOLD                 B   \n",
       "3               1       824502002   HOUSEHOLD                 B   \n",
       "4               2       810103006   HOUSEHOLD                 C   \n",
       "\n",
       "   NUMBER_OF_CONTRACTS  \n",
       "0                    1  \n",
       "1                    1  \n",
       "2                    1  \n",
       "3                    1  \n",
       "4                    1  "
      ]
     },
     "execution_count": 7,
     "metadata": {},
     "output_type": "execute_result"
    }
   ],
   "source": [
    "df.head()\n"
   ]
  },
  {
   "cell_type": "code",
   "execution_count": 10,
   "metadata": {
    "collapsed": true
   },
   "outputs": [],
   "source": [
    "new_df = df[['aaDate','NUMBER_OF_CONTRACTS']]"
   ]
  },
  {
   "cell_type": "code",
   "execution_count": 21,
   "metadata": {
    "collapsed": true
   },
   "outputs": [],
   "source": [
    "sum_df = new_df.groupby(['aaDate'],as_index=False).sum()"
   ]
  },
  {
   "cell_type": "code",
   "execution_count": 26,
   "metadata": {
    "collapsed": true
   },
   "outputs": [],
   "source": [
    "sum_df2 = pd.DataFrame(data=sum_df)"
   ]
  },
  {
   "cell_type": "code",
   "execution_count": 31,
   "metadata": {},
   "outputs": [
    {
     "data": {
      "text/html": [
       "<div>\n",
       "<table border=\"1\" class=\"dataframe\">\n",
       "  <thead>\n",
       "    <tr style=\"text-align: right;\">\n",
       "      <th></th>\n",
       "      <th>NUMBER_OF_CONTRACTS</th>\n",
       "    </tr>\n",
       "  </thead>\n",
       "  <tbody>\n",
       "    <tr>\n",
       "      <th>count</th>\n",
       "      <td>3904.000000</td>\n",
       "    </tr>\n",
       "    <tr>\n",
       "      <th>mean</th>\n",
       "      <td>80.379611</td>\n",
       "    </tr>\n",
       "    <tr>\n",
       "      <th>std</th>\n",
       "      <td>52.590854</td>\n",
       "    </tr>\n",
       "    <tr>\n",
       "      <th>min</th>\n",
       "      <td>1.000000</td>\n",
       "    </tr>\n",
       "    <tr>\n",
       "      <th>25%</th>\n",
       "      <td>18.000000</td>\n",
       "    </tr>\n",
       "    <tr>\n",
       "      <th>50%</th>\n",
       "      <td>95.000000</td>\n",
       "    </tr>\n",
       "    <tr>\n",
       "      <th>75%</th>\n",
       "      <td>120.000000</td>\n",
       "    </tr>\n",
       "    <tr>\n",
       "      <th>max</th>\n",
       "      <td>330.000000</td>\n",
       "    </tr>\n",
       "  </tbody>\n",
       "</table>\n",
       "</div>"
      ],
      "text/plain": [
       "       NUMBER_OF_CONTRACTS\n",
       "count          3904.000000\n",
       "mean             80.379611\n",
       "std              52.590854\n",
       "min               1.000000\n",
       "25%              18.000000\n",
       "50%              95.000000\n",
       "75%             120.000000\n",
       "max             330.000000"
      ]
     },
     "execution_count": 31,
     "metadata": {},
     "output_type": "execute_result"
    }
   ],
   "source": [
    "sum_df2.describe()"
   ]
  },
  {
   "cell_type": "code",
   "execution_count": 34,
   "metadata": {},
   "outputs": [
    {
     "data": {
      "image/png": "[encoded data removed]",
      "text/plain": [
       "<matplotlib.figure.Figure at 0xf0ccf60>"
      ]
     },
     "metadata": {},
     "output_type": "display_data"
    }
   ],
   "source": [
    "sum_df2.plot()\n",
    "plt.show()"
   ]
  },
  {
   "cell_type": "code",
   "execution_count": 37,
   "metadata": {
    "collapsed": true
   },
   "outputs": [],
   "source": [
    "df_old = pd.read_csv(\"end_with_date.csv\")\n"
   ]
  },
  {
   "cell_type": "code",
   "execution_count": 38,
   "metadata": {},
   "outputs": [
    {
     "data": {
      "text/html": [
       "<div>\n",
       "<table border=\"1\" class=\"dataframe\">\n",
       "  <thead>\n",
       "    <tr style=\"text-align: right;\">\n",
       "      <th></th>\n",
       "      <th>aaDate</th>\n",
       "      <th>MUNICIPALITY</th>\n",
       "      <th>YEAR_END_CONTRACT</th>\n",
       "      <th>MONTH_END_CONTRACT</th>\n",
       "      <th>DAY_END_CONTRACT</th>\n",
       "      <th>CENSUS_SECTION</th>\n",
       "      <th>WATER_USAGE</th>\n",
       "      <th>TYPE_OF_HOUSEHOLD</th>\n",
       "      <th>NUMBER_OF_CONTRACTS_ENDED</th>\n",
       "    </tr>\n",
       "  </thead>\n",
       "  <tbody>\n",
       "    <tr>\n",
       "      <th>0</th>\n",
       "      <td>2016-08-01</td>\n",
       "      <td>BARCELONA</td>\n",
       "      <td>2016</td>\n",
       "      <td>aug.</td>\n",
       "      <td>1.0</td>\n",
       "      <td>801902193.0</td>\n",
       "      <td>HOUSEHOLD</td>\n",
       "      <td>B</td>\n",
       "      <td>1.0</td>\n",
       "    </tr>\n",
       "    <tr>\n",
       "      <th>1</th>\n",
       "      <td>2016-08-01</td>\n",
       "      <td>BARCELONA</td>\n",
       "      <td>2016</td>\n",
       "      <td>aug.</td>\n",
       "      <td>1.0</td>\n",
       "      <td>801902193.0</td>\n",
       "      <td>HOUSEHOLD</td>\n",
       "      <td>C</td>\n",
       "      <td>1.0</td>\n",
       "    </tr>\n",
       "    <tr>\n",
       "      <th>2</th>\n",
       "      <td>2016-08-01</td>\n",
       "      <td>BARCELONA</td>\n",
       "      <td>2016</td>\n",
       "      <td>aug.</td>\n",
       "      <td>1.0</td>\n",
       "      <td>801903159.0</td>\n",
       "      <td>HOUSEHOLD</td>\n",
       "      <td>A</td>\n",
       "      <td>1.0</td>\n",
       "    </tr>\n",
       "    <tr>\n",
       "      <th>3</th>\n",
       "      <td>2016-08-01</td>\n",
       "      <td>BARCELONA</td>\n",
       "      <td>2016</td>\n",
       "      <td>aug.</td>\n",
       "      <td>1.0</td>\n",
       "      <td>801909116.0</td>\n",
       "      <td>HOUSEHOLD</td>\n",
       "      <td>B</td>\n",
       "      <td>1.0</td>\n",
       "    </tr>\n",
       "    <tr>\n",
       "      <th>4</th>\n",
       "      <td>2016-08-01</td>\n",
       "      <td>BARCELONA</td>\n",
       "      <td>2016</td>\n",
       "      <td>aug.</td>\n",
       "      <td>1.0</td>\n",
       "      <td>801909103.0</td>\n",
       "      <td>HOUSEHOLD</td>\n",
       "      <td>C</td>\n",
       "      <td>1.0</td>\n",
       "    </tr>\n",
       "  </tbody>\n",
       "</table>\n",
       "</div>"
      ],
      "text/plain": [
       "       aaDate MUNICIPALITY  YEAR_END_CONTRACT MONTH_END_CONTRACT  \\\n",
       "0  2016-08-01    BARCELONA               2016               aug.   \n",
       "1  2016-08-01    BARCELONA               2016               aug.   \n",
       "2  2016-08-01    BARCELONA               2016               aug.   \n",
       "3  2016-08-01    BARCELONA               2016               aug.   \n",
       "4  2016-08-01    BARCELONA               2016               aug.   \n",
       "\n",
       "   DAY_END_CONTRACT  CENSUS_SECTION WATER_USAGE TYPE_OF_HOUSEHOLD  \\\n",
       "0               1.0     801902193.0   HOUSEHOLD                 B   \n",
       "1               1.0     801902193.0   HOUSEHOLD                 C   \n",
       "2               1.0     801903159.0   HOUSEHOLD                 A   \n",
       "3               1.0     801909116.0   HOUSEHOLD                 B   \n",
       "4               1.0     801909103.0   HOUSEHOLD                 C   \n",
       "\n",
       "   NUMBER_OF_CONTRACTS_ENDED  \n",
       "0                        1.0  \n",
       "1                        1.0  \n",
       "2                        1.0  \n",
       "3                        1.0  \n",
       "4                        1.0  "
      ]
     },
     "execution_count": 38,
     "metadata": {},
     "output_type": "execute_result"
    }
   ],
   "source": [
    "df_old.head()"
   ]
  },
  {
   "cell_type": "code",
   "execution_count": 39,
   "metadata": {},
   "outputs": [
    {
     "data": {
      "image/png": "[encoded data removed]",
      "text/plain": [
       "<matplotlib.figure.Figure at 0x1261ac50>"
      ]
     },
     "metadata": {},
     "output_type": "display_data"
    }
   ],
   "source": [
    "old_df = df_old[['aaDate','NUMBER_OF_CONTRACTS_ENDED']]\n",
    "old_sum_df = old_df.groupby(['aaDate'],as_index=False).sum()\n",
    "sum_df_old = pd.DataFrame(data=old_sum_df)\n",
    "sum_df_old.plot()\n",
    "plt.show()"
   ]
  },
  {
   "cell_type": "code",
   "execution_count": 40,
   "metadata": {
    "collapsed": true
   },
   "outputs": [],
   "source": [
    "Net_change = -(sum_df_old.NUMBER_OF_CONTRACTS_ENDED - sum_df2.NUMBER_OF_CONTRACTS)"
   ]
  },
  {
   "cell_type": "code",
   "execution_count": 41,
   "metadata": {},
   "outputs": [
    {
     "data": {
      "image/png": "[encoded data removed]",
      "text/plain": [
       "<matplotlib.figure.Figure at 0xc6c7b00>"
      ]
     },
     "metadata": {},
     "output_type": "display_data"
    }
   ],
   "source": [
    "Net_change.plot()\n",
    "plt.show()"
   ]
  },
  {
   "cell_type": "code",
   "execution_count": 43,
   "metadata": {},
   "outputs": [
    {
     "data": {
      "image/png": "[encoded data removed]",
      "text/plain": [
       "<matplotlib.figure.Figure at 0xc6944a8>"
      ]
     },
     "metadata": {},
     "output_type": "display_data"
    }
   ],
   "source": [
    "Nccsum = Net_change.cumsum()\n",
    "Nccsum.plot()\n",
    "plt.show()"
   ]
  },
  {
   "cell_type": "code",
   "execution_count": 44,
   "metadata": {},
   "outputs": [
    {
     "data": {
      "text/html": [
       "<div>\n",
       "<table border=\"1\" class=\"dataframe\">\n",
       "  <thead>\n",
       "    <tr style=\"text-align: right;\">\n",
       "      <th></th>\n",
       "      <th>aaDate</th>\n",
       "      <th>NUMBER_OF_CONTRACTS_ENDED</th>\n",
       "    </tr>\n",
       "  </thead>\n",
       "  <tbody>\n",
       "    <tr>\n",
       "      <th>0</th>\n",
       "      <td>2006-01-02</td>\n",
       "      <td>104.0</td>\n",
       "    </tr>\n",
       "    <tr>\n",
       "      <th>1</th>\n",
       "      <td>2006-01-03</td>\n",
       "      <td>72.0</td>\n",
       "    </tr>\n",
       "    <tr>\n",
       "      <th>2</th>\n",
       "      <td>2006-01-04</td>\n",
       "      <td>85.0</td>\n",
       "    </tr>\n",
       "    <tr>\n",
       "      <th>3</th>\n",
       "      <td>2006-01-05</td>\n",
       "      <td>44.0</td>\n",
       "    </tr>\n",
       "    <tr>\n",
       "      <th>4</th>\n",
       "      <td>2006-01-06</td>\n",
       "      <td>3.0</td>\n",
       "    </tr>\n",
       "  </tbody>\n",
       "</table>\n",
       "</div>"
      ],
      "text/plain": [
       "       aaDate  NUMBER_OF_CONTRACTS_ENDED\n",
       "0  2006-01-02                      104.0\n",
       "1  2006-01-03                       72.0\n",
       "2  2006-01-04                       85.0\n",
       "3  2006-01-05                       44.0\n",
       "4  2006-01-06                        3.0"
      ]
     },
     "execution_count": 44,
     "metadata": {},
     "output_type": "execute_result"
    }
   ],
   "source": [
    "sum_df_old.head()"
   ]
  },
  {
   "cell_type": "code",
   "execution_count": 45,
   "metadata": {},
   "outputs": [
    {
     "data": {
      "text/html": [
       "<div>\n",
       "<table border=\"1\" class=\"dataframe\">\n",
       "  <thead>\n",
       "    <tr style=\"text-align: right;\">\n",
       "      <th></th>\n",
       "      <th>aaDate</th>\n",
       "      <th>NUMBER_OF_CONTRACTS</th>\n",
       "    </tr>\n",
       "  </thead>\n",
       "  <tbody>\n",
       "    <tr>\n",
       "      <th>0</th>\n",
       "      <td>2005-11-25</td>\n",
       "      <td>1</td>\n",
       "    </tr>\n",
       "    <tr>\n",
       "      <th>1</th>\n",
       "      <td>2006-01-02</td>\n",
       "      <td>15</td>\n",
       "    </tr>\n",
       "    <tr>\n",
       "      <th>2</th>\n",
       "      <td>2006-01-03</td>\n",
       "      <td>83</td>\n",
       "    </tr>\n",
       "    <tr>\n",
       "      <th>3</th>\n",
       "      <td>2006-01-04</td>\n",
       "      <td>88</td>\n",
       "    </tr>\n",
       "    <tr>\n",
       "      <th>4</th>\n",
       "      <td>2006-01-05</td>\n",
       "      <td>104</td>\n",
       "    </tr>\n",
       "  </tbody>\n",
       "</table>\n",
       "</div>"
      ],
      "text/plain": [
       "       aaDate  NUMBER_OF_CONTRACTS\n",
       "0  2005-11-25                    1\n",
       "1  2006-01-02                   15\n",
       "2  2006-01-03                   83\n",
       "3  2006-01-04                   88\n",
       "4  2006-01-05                  104"
      ]
     },
     "execution_count": 45,
     "metadata": {},
     "output_type": "execute_result"
    }
   ],
   "source": [
    "sum_df2.head()"
   ]
  },
  {
   "cell_type": "code",
   "execution_count": 48,
   "metadata": {
    "collapsed": true
   },
   "outputs": [],
   "source": [
    "sum_df2 = sum_df2.sort_values(by='aaDate', axis=0)"
   ]
  },
  {
   "cell_type": "code",
   "execution_count": 50,
   "metadata": {
    "collapsed": true
   },
   "outputs": [],
   "source": [
    "sum_df_old = sum_df_old.sort_values(by='aaDate', axis=0)"
   ]
  },
  {
   "cell_type": "code",
   "execution_count": 52,
   "metadata": {},
   "outputs": [
    {
     "data": {
      "image/png": "[encoded data removed]",
      "text/plain": [
       "<matplotlib.figure.Figure at 0xfaec7b8>"
      ]
     },
     "metadata": {},
     "output_type": "display_data"
    },
    {
     "data": {
      "image/png": "[encoded data removed]",
      "text/plain": [
       "<matplotlib.figure.Figure at 0xfa52668>"
      ]
     },
     "metadata": {},
     "output_type": "display_data"
    }
   ],
   "source": [
    "Net_change = -(sum_df_old.NUMBER_OF_CONTRACTS_ENDED - sum_df2.NUMBER_OF_CONTRACTS)\n",
    "Net_change.plot()\n",
    "plt.show()\n",
    "Nccsum = Net_change.cumsum()\n",
    "Nccsum.plot()\n",
    "plt.show()"
   ]
  },
  {
   "cell_type": "code",
   "execution_count": 53,
   "metadata": {
    "collapsed": true
   },
   "outputs": [],
   "source": [
    "sum_df2.to_csv(\"New_Grouped_by_date\")\n",
    "sum_df_old.to_csv(\"Old_Grouped_by_date\")"
   ]
  },
  {
   "cell_type": "code",
   "execution_count": 54,
   "metadata": {
    "collapsed": true
   },
   "outputs": [],
   "source": [
    "df_t = pd.read_csv(\"Contacts_Pre_2017.csv\")"
   ]
  },
  {
   "cell_type": "code",
   "execution_count": 55,
   "metadata": {},
   "outputs": [
    {
     "data": {
      "text/html": [
       "<div>\n",
       "<table border=\"1\" class=\"dataframe\">\n",
       "  <thead>\n",
       "    <tr style=\"text-align: right;\">\n",
       "      <th></th>\n",
       "      <th>START.DATE</th>\n",
       "      <th>END.DATE</th>\n",
       "      <th>CONTACT.TYPE</th>\n",
       "      <th>Contacts</th>\n",
       "    </tr>\n",
       "  </thead>\n",
       "  <tbody>\n",
       "    <tr>\n",
       "      <th>0</th>\n",
       "      <td>2010-01-01</td>\n",
       "      <td>2010-01-01</td>\n",
       "      <td>Call - Input</td>\n",
       "      <td>84</td>\n",
       "    </tr>\n",
       "    <tr>\n",
       "      <th>1</th>\n",
       "      <td>2010-01-01</td>\n",
       "      <td>2010-01-01</td>\n",
       "      <td>Web - Input</td>\n",
       "      <td>11</td>\n",
       "    </tr>\n",
       "    <tr>\n",
       "      <th>2</th>\n",
       "      <td>2010-01-02</td>\n",
       "      <td>2010-01-02</td>\n",
       "      <td>Call - Input</td>\n",
       "      <td>236</td>\n",
       "    </tr>\n",
       "    <tr>\n",
       "      <th>3</th>\n",
       "      <td>2010-01-02</td>\n",
       "      <td>2010-01-02</td>\n",
       "      <td>Web - Input</td>\n",
       "      <td>21</td>\n",
       "    </tr>\n",
       "    <tr>\n",
       "      <th>4</th>\n",
       "      <td>2010-01-02</td>\n",
       "      <td>2010-01-03</td>\n",
       "      <td>Call - Input</td>\n",
       "      <td>1</td>\n",
       "    </tr>\n",
       "  </tbody>\n",
       "</table>\n",
       "</div>"
      ],
      "text/plain": [
       "   START.DATE    END.DATE  CONTACT.TYPE  Contacts\n",
       "0  2010-01-01  2010-01-01  Call - Input        84\n",
       "1  2010-01-01  2010-01-01   Web - Input        11\n",
       "2  2010-01-02  2010-01-02  Call - Input       236\n",
       "3  2010-01-02  2010-01-02   Web - Input        21\n",
       "4  2010-01-02  2010-01-03  Call - Input         1"
      ]
     },
     "execution_count": 55,
     "metadata": {},
     "output_type": "execute_result"
    }
   ],
   "source": [
    "df_t.head()"
   ]
  },
  {
   "cell_type": "code",
   "execution_count": 61,
   "metadata": {
    "collapsed": true
   },
   "outputs": [],
   "source": [
    "df_n = pd.get_dummies(df_t,columns=['CONTACT.TYPE'])"
   ]
  },
  {
   "cell_type": "code",
   "execution_count": 62,
   "metadata": {},
   "outputs": [
    {
     "data": {
      "text/html": [
       "<div>\n",
       "<table border=\"1\" class=\"dataframe\">\n",
       "  <thead>\n",
       "    <tr style=\"text-align: right;\">\n",
       "      <th></th>\n",
       "      <th>START.DATE</th>\n",
       "      <th>END.DATE</th>\n",
       "      <th>Contacts</th>\n",
       "      <th>CONTACT.TYPE_Call - Input</th>\n",
       "      <th>CONTACT.TYPE_Fax - Input</th>\n",
       "      <th>CONTACT.TYPE_Fax Acknowledgement - Input</th>\n",
       "      <th>CONTACT.TYPE_Installation Report - Input</th>\n",
       "      <th>CONTACT.TYPE_Internal Management</th>\n",
       "      <th>CONTACT.TYPE_Mail - Input</th>\n",
       "      <th>CONTACT.TYPE_Mail - Recieved</th>\n",
       "      <th>CONTACT.TYPE_Tweet - Input</th>\n",
       "      <th>CONTACT.TYPE_Visit</th>\n",
       "      <th>CONTACT.TYPE_Web - Input</th>\n",
       "    </tr>\n",
       "  </thead>\n",
       "  <tbody>\n",
       "    <tr>\n",
       "      <th>0</th>\n",
       "      <td>2010-01-01</td>\n",
       "      <td>2010-01-01</td>\n",
       "      <td>84</td>\n",
       "      <td>1.0</td>\n",
       "      <td>0.0</td>\n",
       "      <td>0.0</td>\n",
       "      <td>0.0</td>\n",
       "      <td>0.0</td>\n",
       "      <td>0.0</td>\n",
       "      <td>0.0</td>\n",
       "      <td>0.0</td>\n",
       "      <td>0.0</td>\n",
       "      <td>0.0</td>\n",
       "    </tr>\n",
       "    <tr>\n",
       "      <th>1</th>\n",
       "      <td>2010-01-01</td>\n",
       "      <td>2010-01-01</td>\n",
       "      <td>11</td>\n",
       "      <td>0.0</td>\n",
       "      <td>0.0</td>\n",
       "      <td>0.0</td>\n",
       "      <td>0.0</td>\n",
       "      <td>0.0</td>\n",
       "      <td>0.0</td>\n",
       "      <td>0.0</td>\n",
       "      <td>0.0</td>\n",
       "      <td>0.0</td>\n",
       "      <td>1.0</td>\n",
       "    </tr>\n",
       "    <tr>\n",
       "      <th>2</th>\n",
       "      <td>2010-01-02</td>\n",
       "      <td>2010-01-02</td>\n",
       "      <td>236</td>\n",
       "      <td>1.0</td>\n",
       "      <td>0.0</td>\n",
       "      <td>0.0</td>\n",
       "      <td>0.0</td>\n",
       "      <td>0.0</td>\n",
       "      <td>0.0</td>\n",
       "      <td>0.0</td>\n",
       "      <td>0.0</td>\n",
       "      <td>0.0</td>\n",
       "      <td>0.0</td>\n",
       "    </tr>\n",
       "    <tr>\n",
       "      <th>3</th>\n",
       "      <td>2010-01-02</td>\n",
       "      <td>2010-01-02</td>\n",
       "      <td>21</td>\n",
       "      <td>0.0</td>\n",
       "      <td>0.0</td>\n",
       "      <td>0.0</td>\n",
       "      <td>0.0</td>\n",
       "      <td>0.0</td>\n",
       "      <td>0.0</td>\n",
       "      <td>0.0</td>\n",
       "      <td>0.0</td>\n",
       "      <td>0.0</td>\n",
       "      <td>1.0</td>\n",
       "    </tr>\n",
       "    <tr>\n",
       "      <th>4</th>\n",
       "      <td>2010-01-02</td>\n",
       "      <td>2010-01-03</td>\n",
       "      <td>1</td>\n",
       "      <td>1.0</td>\n",
       "      <td>0.0</td>\n",
       "      <td>0.0</td>\n",
       "      <td>0.0</td>\n",
       "      <td>0.0</td>\n",
       "      <td>0.0</td>\n",
       "      <td>0.0</td>\n",
       "      <td>0.0</td>\n",
       "      <td>0.0</td>\n",
       "      <td>0.0</td>\n",
       "    </tr>\n",
       "  </tbody>\n",
       "</table>\n",
       "</div>"
      ],
      "text/plain": [
       "   START.DATE    END.DATE  Contacts  CONTACT.TYPE_Call - Input  \\\n",
       "0  2010-01-01  2010-01-01        84                        1.0   \n",
       "1  2010-01-01  2010-01-01        11                        0.0   \n",
       "2  2010-01-02  2010-01-02       236                        1.0   \n",
       "3  2010-01-02  2010-01-02        21                        0.0   \n",
       "4  2010-01-02  2010-01-03         1                        1.0   \n",
       "\n",
       "   CONTACT.TYPE_Fax - Input  CONTACT.TYPE_Fax Acknowledgement - Input  \\\n",
       "0                       0.0                                       0.0   \n",
       "1                       0.0                                       0.0   \n",
       "2                       0.0                                       0.0   \n",
       "3                       0.0                                       0.0   \n",
       "4                       0.0                                       0.0   \n",
       "\n",
       "   CONTACT.TYPE_Installation Report - Input  CONTACT.TYPE_Internal Management  \\\n",
       "0                                       0.0                               0.0   \n",
       "1                                       0.0                               0.0   \n",
       "2                                       0.0                               0.0   \n",
       "3                                       0.0                               0.0   \n",
       "4                                       0.0                               0.0   \n",
       "\n",
       "   CONTACT.TYPE_Mail - Input  CONTACT.TYPE_Mail - Recieved  \\\n",
       "0                        0.0                           0.0   \n",
       "1                        0.0                           0.0   \n",
       "2                        0.0                           0.0   \n",
       "3                        0.0                           0.0   \n",
       "4                        0.0                           0.0   \n",
       "\n",
       "   CONTACT.TYPE_Tweet - Input  CONTACT.TYPE_Visit  CONTACT.TYPE_Web - Input  \n",
       "0                         0.0                 0.0                       0.0  \n",
       "1                         0.0                 0.0                       1.0  \n",
       "2                         0.0                 0.0                       0.0  \n",
       "3                         0.0                 0.0                       1.0  \n",
       "4                         0.0                 0.0                       0.0  "
      ]
     },
     "execution_count": 62,
     "metadata": {},
     "output_type": "execute_result"
    }
   ],
   "source": [
    "df_n.head()"
   ]
  },
  {
   "cell_type": "code",
   "execution_count": 66,
   "metadata": {
    "collapsed": true
   },
   "outputs": [],
   "source": [
    "df_new = df_n.merge(sum_df2, left_on='START.DATE', right_on='aaDate', how='inner')"
   ]
  },
  {
   "cell_type": "code",
   "execution_count": 67,
   "metadata": {
    "collapsed": true
   },
   "outputs": [],
   "source": [
    "df_new = df_new.merge(sum_df_old,left_on='START.DATE', right_on='aaDate', how='inner')"
   ]
  },
  {
   "cell_type": "code",
   "execution_count": 68,
   "metadata": {},
   "outputs": [
    {
     "data": {
      "text/html": [
       "<div>\n",
       "<table border=\"1\" class=\"dataframe\">\n",
       "  <thead>\n",
       "    <tr style=\"text-align: right;\">\n",
       "      <th></th>\n",
       "      <th>START.DATE</th>\n",
       "      <th>END.DATE</th>\n",
       "      <th>Contacts</th>\n",
       "      <th>CONTACT.TYPE_Call - Input</th>\n",
       "      <th>CONTACT.TYPE_Fax - Input</th>\n",
       "      <th>CONTACT.TYPE_Fax Acknowledgement - Input</th>\n",
       "      <th>CONTACT.TYPE_Installation Report - Input</th>\n",
       "      <th>CONTACT.TYPE_Internal Management</th>\n",
       "      <th>CONTACT.TYPE_Mail - Input</th>\n",
       "      <th>CONTACT.TYPE_Mail - Recieved</th>\n",
       "      <th>CONTACT.TYPE_Tweet - Input</th>\n",
       "      <th>CONTACT.TYPE_Visit</th>\n",
       "      <th>CONTACT.TYPE_Web - Input</th>\n",
       "      <th>aaDate_x</th>\n",
       "      <th>NUMBER_OF_CONTRACTS</th>\n",
       "      <th>aaDate_y</th>\n",
       "      <th>NUMBER_OF_CONTRACTS_ENDED</th>\n",
       "    </tr>\n",
       "  </thead>\n",
       "  <tbody>\n",
       "    <tr>\n",
       "      <th>0</th>\n",
       "      <td>2010-01-01</td>\n",
       "      <td>2010-01-01</td>\n",
       "      <td>84</td>\n",
       "      <td>1.0</td>\n",
       "      <td>0.0</td>\n",
       "      <td>0.0</td>\n",
       "      <td>0.0</td>\n",
       "      <td>0.0</td>\n",
       "      <td>0.0</td>\n",
       "      <td>0.0</td>\n",
       "      <td>0.0</td>\n",
       "      <td>0.0</td>\n",
       "      <td>0.0</td>\n",
       "      <td>2010-01-01</td>\n",
       "      <td>1</td>\n",
       "      <td>2010-01-01</td>\n",
       "      <td>1.0</td>\n",
       "    </tr>\n",
       "    <tr>\n",
       "      <th>1</th>\n",
       "      <td>2010-01-01</td>\n",
       "      <td>2010-01-01</td>\n",
       "      <td>11</td>\n",
       "      <td>0.0</td>\n",
       "      <td>0.0</td>\n",
       "      <td>0.0</td>\n",
       "      <td>0.0</td>\n",
       "      <td>0.0</td>\n",
       "      <td>0.0</td>\n",
       "      <td>0.0</td>\n",
       "      <td>0.0</td>\n",
       "      <td>0.0</td>\n",
       "      <td>1.0</td>\n",
       "      <td>2010-01-01</td>\n",
       "      <td>1</td>\n",
       "      <td>2010-01-01</td>\n",
       "      <td>1.0</td>\n",
       "    </tr>\n",
       "    <tr>\n",
       "      <th>2</th>\n",
       "      <td>2010-01-02</td>\n",
       "      <td>2010-01-02</td>\n",
       "      <td>236</td>\n",
       "      <td>1.0</td>\n",
       "      <td>0.0</td>\n",
       "      <td>0.0</td>\n",
       "      <td>0.0</td>\n",
       "      <td>0.0</td>\n",
       "      <td>0.0</td>\n",
       "      <td>0.0</td>\n",
       "      <td>0.0</td>\n",
       "      <td>0.0</td>\n",
       "      <td>0.0</td>\n",
       "      <td>2010-01-02</td>\n",
       "      <td>5</td>\n",
       "      <td>2010-01-02</td>\n",
       "      <td>2.0</td>\n",
       "    </tr>\n",
       "    <tr>\n",
       "      <th>3</th>\n",
       "      <td>2010-01-02</td>\n",
       "      <td>2010-01-02</td>\n",
       "      <td>21</td>\n",
       "      <td>0.0</td>\n",
       "      <td>0.0</td>\n",
       "      <td>0.0</td>\n",
       "      <td>0.0</td>\n",
       "      <td>0.0</td>\n",
       "      <td>0.0</td>\n",
       "      <td>0.0</td>\n",
       "      <td>0.0</td>\n",
       "      <td>0.0</td>\n",
       "      <td>1.0</td>\n",
       "      <td>2010-01-02</td>\n",
       "      <td>5</td>\n",
       "      <td>2010-01-02</td>\n",
       "      <td>2.0</td>\n",
       "    </tr>\n",
       "    <tr>\n",
       "      <th>4</th>\n",
       "      <td>2010-01-02</td>\n",
       "      <td>2010-01-03</td>\n",
       "      <td>1</td>\n",
       "      <td>1.0</td>\n",
       "      <td>0.0</td>\n",
       "      <td>0.0</td>\n",
       "      <td>0.0</td>\n",
       "      <td>0.0</td>\n",
       "      <td>0.0</td>\n",
       "      <td>0.0</td>\n",
       "      <td>0.0</td>\n",
       "      <td>0.0</td>\n",
       "      <td>0.0</td>\n",
       "      <td>2010-01-02</td>\n",
       "      <td>5</td>\n",
       "      <td>2010-01-02</td>\n",
       "      <td>2.0</td>\n",
       "    </tr>\n",
       "  </tbody>\n",
       "</table>\n",
       "</div>"
      ],
      "text/plain": [
       "   START.DATE    END.DATE  Contacts  CONTACT.TYPE_Call - Input  \\\n",
       "0  2010-01-01  2010-01-01        84                        1.0   \n",
       "1  2010-01-01  2010-01-01        11                        0.0   \n",
       "2  2010-01-02  2010-01-02       236                        1.0   \n",
       "3  2010-01-02  2010-01-02        21                        0.0   \n",
       "4  2010-01-02  2010-01-03         1                        1.0   \n",
       "\n",
       "   CONTACT.TYPE_Fax - Input  CONTACT.TYPE_Fax Acknowledgement - Input  \\\n",
       "0                       0.0                                       0.0   \n",
       "1                       0.0                                       0.0   \n",
       "2                       0.0                                       0.0   \n",
       "3                       0.0                                       0.0   \n",
       "4                       0.0                                       0.0   \n",
       "\n",
       "   CONTACT.TYPE_Installation Report - Input  CONTACT.TYPE_Internal Management  \\\n",
       "0                                       0.0                               0.0   \n",
       "1                                       0.0                               0.0   \n",
       "2                                       0.0                               0.0   \n",
       "3                                       0.0                               0.0   \n",
       "4                                       0.0                               0.0   \n",
       "\n",
       "   CONTACT.TYPE_Mail - Input  CONTACT.TYPE_Mail - Recieved  \\\n",
       "0                        0.0                           0.0   \n",
       "1                        0.0                           0.0   \n",
       "2                        0.0                           0.0   \n",
       "3                        0.0                           0.0   \n",
       "4                        0.0                           0.0   \n",
       "\n",
       "   CONTACT.TYPE_Tweet - Input  CONTACT.TYPE_Visit  CONTACT.TYPE_Web - Input  \\\n",
       "0                         0.0                 0.0                       0.0   \n",
       "1                         0.0                 0.0                       1.0   \n",
       "2                         0.0                 0.0                       0.0   \n",
       "3                         0.0                 0.0                       1.0   \n",
       "4                         0.0                 0.0                       0.0   \n",
       "\n",
       "     aaDate_x  NUMBER_OF_CONTRACTS    aaDate_y  NUMBER_OF_CONTRACTS_ENDED  \n",
       "0  2010-01-01                    1  2010-01-01                        1.0  \n",
       "1  2010-01-01                    1  2010-01-01                        1.0  \n",
       "2  2010-01-02                    5  2010-01-02                        2.0  \n",
       "3  2010-01-02                    5  2010-01-02                        2.0  \n",
       "4  2010-01-02                    5  2010-01-02                        2.0  "
      ]
     },
     "execution_count": 68,
     "metadata": {},
     "output_type": "execute_result"
    }
   ],
   "source": [
    "df_new.head()"
   ]
  },
  {
   "cell_type": "code",
   "execution_count": 69,
   "metadata": {},
   "outputs": [
    {
     "data": {
      "text/html": [
       "<div>\n",
       "<table border=\"1\" class=\"dataframe\">\n",
       "  <thead>\n",
       "    <tr style=\"text-align: right;\">\n",
       "      <th></th>\n",
       "      <th>START.DATE</th>\n",
       "      <th>NUMBER_OF_CONTRACTS</th>\n",
       "      <th>NUMBER_OF_CONTRACTS_ENDED</th>\n",
       "      <th>Contacts</th>\n",
       "    </tr>\n",
       "  </thead>\n",
       "  <tbody>\n",
       "    <tr>\n",
       "      <th>0</th>\n",
       "      <td>2010-01-01</td>\n",
       "      <td>1</td>\n",
       "      <td>1.0</td>\n",
       "      <td>84</td>\n",
       "    </tr>\n",
       "    <tr>\n",
       "      <th>1</th>\n",
       "      <td>2010-01-01</td>\n",
       "      <td>1</td>\n",
       "      <td>1.0</td>\n",
       "      <td>11</td>\n",
       "    </tr>\n",
       "    <tr>\n",
       "      <th>2</th>\n",
       "      <td>2010-01-02</td>\n",
       "      <td>5</td>\n",
       "      <td>2.0</td>\n",
       "      <td>236</td>\n",
       "    </tr>\n",
       "    <tr>\n",
       "      <th>3</th>\n",
       "      <td>2010-01-02</td>\n",
       "      <td>5</td>\n",
       "      <td>2.0</td>\n",
       "      <td>21</td>\n",
       "    </tr>\n",
       "    <tr>\n",
       "      <th>4</th>\n",
       "      <td>2010-01-02</td>\n",
       "      <td>5</td>\n",
       "      <td>2.0</td>\n",
       "      <td>1</td>\n",
       "    </tr>\n",
       "  </tbody>\n",
       "</table>\n",
       "</div>"
      ],
      "text/plain": [
       "   START.DATE  NUMBER_OF_CONTRACTS  NUMBER_OF_CONTRACTS_ENDED  Contacts\n",
       "0  2010-01-01                    1                        1.0        84\n",
       "1  2010-01-01                    1                        1.0        11\n",
       "2  2010-01-02                    5                        2.0       236\n",
       "3  2010-01-02                    5                        2.0        21\n",
       "4  2010-01-02                    5                        2.0         1"
      ]
     },
     "execution_count": 69,
     "metadata": {},
     "output_type": "execute_result"
    }
   ],
   "source": [
    "labels = ['START.DATE','NUMBER_OF_CONTRACTS','NUMBER_OF_CONTRACTS_ENDED','Contacts']\n",
    "df_new[labels].head()"
   ]
  },
  {
   "cell_type": "code",
   "execution_count": 70,
   "metadata": {},
   "outputs": [
    {
     "data": {
      "image/png": "[encoded data removed]",
      "text/plain": [
       "<matplotlib.figure.Figure at 0xf0d0898>"
      ]
     },
     "metadata": {},
     "output_type": "display_data"
    }
   ],
   "source": [
    "df_new[labels].plot()\n",
    "plt.show()"
   ]
  },
  {
   "cell_type": "code",
   "execution_count": 71,
   "metadata": {
    "collapsed": true
   },
   "outputs": [],
   "source": [
    "sum_df_n = df_n.groupby(['START.DATE'],as_index=False).sum()\n",
    "sum_df_nee = pd.DataFrame(data=sum_df_n)"
   ]
  },
  {
   "cell_type": "code",
   "execution_count": 73,
   "metadata": {
    "collapsed": true
   },
   "outputs": [],
   "source": [
    "sum_df_nee = sum_df_nee.sort_values(by='START.DATE', axis=0)"
   ]
  },
  {
   "cell_type": "code",
   "execution_count": 74,
   "metadata": {},
   "outputs": [
    {
     "data": {
      "text/html": [
       "<div>\n",
       "<table border=\"1\" class=\"dataframe\">\n",
       "  <thead>\n",
       "    <tr style=\"text-align: right;\">\n",
       "      <th></th>\n",
       "      <th>START.DATE</th>\n",
       "      <th>Contacts</th>\n",
       "      <th>CONTACT.TYPE_Call - Input</th>\n",
       "      <th>CONTACT.TYPE_Fax - Input</th>\n",
       "      <th>CONTACT.TYPE_Fax Acknowledgement - Input</th>\n",
       "      <th>CONTACT.TYPE_Installation Report - Input</th>\n",
       "      <th>CONTACT.TYPE_Internal Management</th>\n",
       "      <th>CONTACT.TYPE_Mail - Input</th>\n",
       "      <th>CONTACT.TYPE_Mail - Recieved</th>\n",
       "      <th>CONTACT.TYPE_Tweet - Input</th>\n",
       "      <th>CONTACT.TYPE_Visit</th>\n",
       "      <th>CONTACT.TYPE_Web - Input</th>\n",
       "    </tr>\n",
       "  </thead>\n",
       "  <tbody>\n",
       "    <tr>\n",
       "      <th>0</th>\n",
       "      <td>2010-01-01</td>\n",
       "      <td>95</td>\n",
       "      <td>1.0</td>\n",
       "      <td>0.0</td>\n",
       "      <td>0.0</td>\n",
       "      <td>0.0</td>\n",
       "      <td>0.0</td>\n",
       "      <td>0.0</td>\n",
       "      <td>0.0</td>\n",
       "      <td>0.0</td>\n",
       "      <td>0.0</td>\n",
       "      <td>1.0</td>\n",
       "    </tr>\n",
       "    <tr>\n",
       "      <th>1</th>\n",
       "      <td>2010-01-02</td>\n",
       "      <td>258</td>\n",
       "      <td>2.0</td>\n",
       "      <td>0.0</td>\n",
       "      <td>0.0</td>\n",
       "      <td>0.0</td>\n",
       "      <td>0.0</td>\n",
       "      <td>0.0</td>\n",
       "      <td>0.0</td>\n",
       "      <td>0.0</td>\n",
       "      <td>0.0</td>\n",
       "      <td>1.0</td>\n",
       "    </tr>\n",
       "    <tr>\n",
       "      <th>2</th>\n",
       "      <td>2010-01-03</td>\n",
       "      <td>193</td>\n",
       "      <td>2.0</td>\n",
       "      <td>0.0</td>\n",
       "      <td>0.0</td>\n",
       "      <td>0.0</td>\n",
       "      <td>0.0</td>\n",
       "      <td>0.0</td>\n",
       "      <td>0.0</td>\n",
       "      <td>0.0</td>\n",
       "      <td>0.0</td>\n",
       "      <td>1.0</td>\n",
       "    </tr>\n",
       "    <tr>\n",
       "      <th>3</th>\n",
       "      <td>2010-01-04</td>\n",
       "      <td>4378</td>\n",
       "      <td>1.0</td>\n",
       "      <td>1.0</td>\n",
       "      <td>1.0</td>\n",
       "      <td>0.0</td>\n",
       "      <td>1.0</td>\n",
       "      <td>1.0</td>\n",
       "      <td>1.0</td>\n",
       "      <td>0.0</td>\n",
       "      <td>1.0</td>\n",
       "      <td>1.0</td>\n",
       "    </tr>\n",
       "    <tr>\n",
       "      <th>4</th>\n",
       "      <td>2010-01-05</td>\n",
       "      <td>3452</td>\n",
       "      <td>1.0</td>\n",
       "      <td>1.0</td>\n",
       "      <td>1.0</td>\n",
       "      <td>0.0</td>\n",
       "      <td>1.0</td>\n",
       "      <td>1.0</td>\n",
       "      <td>1.0</td>\n",
       "      <td>0.0</td>\n",
       "      <td>1.0</td>\n",
       "      <td>1.0</td>\n",
       "    </tr>\n",
       "  </tbody>\n",
       "</table>\n",
       "</div>"
      ],
      "text/plain": [
       "   START.DATE  Contacts  CONTACT.TYPE_Call - Input  CONTACT.TYPE_Fax - Input  \\\n",
       "0  2010-01-01        95                        1.0                       0.0   \n",
       "1  2010-01-02       258                        2.0                       0.0   \n",
       "2  2010-01-03       193                        2.0                       0.0   \n",
       "3  2010-01-04      4378                        1.0                       1.0   \n",
       "4  2010-01-05      3452                        1.0                       1.0   \n",
       "\n",
       "   CONTACT.TYPE_Fax Acknowledgement - Input  \\\n",
       "0                                       0.0   \n",
       "1                                       0.0   \n",
       "2                                       0.0   \n",
       "3                                       1.0   \n",
       "4                                       1.0   \n",
       "\n",
       "   CONTACT.TYPE_Installation Report - Input  CONTACT.TYPE_Internal Management  \\\n",
       "0                                       0.0                               0.0   \n",
       "1                                       0.0                               0.0   \n",
       "2                                       0.0                               0.0   \n",
       "3                                       0.0                               1.0   \n",
       "4                                       0.0                               1.0   \n",
       "\n",
       "   CONTACT.TYPE_Mail - Input  CONTACT.TYPE_Mail - Recieved  \\\n",
       "0                        0.0                           0.0   \n",
       "1                        0.0                           0.0   \n",
       "2                        0.0                           0.0   \n",
       "3                        1.0                           1.0   \n",
       "4                        1.0                           1.0   \n",
       "\n",
       "   CONTACT.TYPE_Tweet - Input  CONTACT.TYPE_Visit  CONTACT.TYPE_Web - Input  \n",
       "0                         0.0                 0.0                       1.0  \n",
       "1                         0.0                 0.0                       1.0  \n",
       "2                         0.0                 0.0                       1.0  \n",
       "3                         0.0                 1.0                       1.0  \n",
       "4                         0.0                 1.0                       1.0  "
      ]
     },
     "execution_count": 74,
     "metadata": {},
     "output_type": "execute_result"
    }
   ],
   "source": [
    "sum_df_nee.head()"
   ]
  },
  {
   "cell_type": "code",
   "execution_count": 75,
   "metadata": {
    "collapsed": true
   },
   "outputs": [],
   "source": [
    "df_new_n = sum_df_nee.merge(sum_df2, left_on='START.DATE', right_on='aaDate', how='inner')\n",
    "df_new_n = df_new_n.merge(sum_df_old,left_on='START.DATE', right_on='aaDate', how='inner')"
   ]
  },
  {
   "cell_type": "code",
   "execution_count": 76,
   "metadata": {},
   "outputs": [
    {
     "data": {
      "text/html": [
       "<div>\n",
       "<table border=\"1\" class=\"dataframe\">\n",
       "  <thead>\n",
       "    <tr style=\"text-align: right;\">\n",
       "      <th></th>\n",
       "      <th>START.DATE</th>\n",
       "      <th>Contacts</th>\n",
       "      <th>CONTACT.TYPE_Call - Input</th>\n",
       "      <th>CONTACT.TYPE_Fax - Input</th>\n",
       "      <th>CONTACT.TYPE_Fax Acknowledgement - Input</th>\n",
       "      <th>CONTACT.TYPE_Installation Report - Input</th>\n",
       "      <th>CONTACT.TYPE_Internal Management</th>\n",
       "      <th>CONTACT.TYPE_Mail - Input</th>\n",
       "      <th>CONTACT.TYPE_Mail - Recieved</th>\n",
       "      <th>CONTACT.TYPE_Tweet - Input</th>\n",
       "      <th>CONTACT.TYPE_Visit</th>\n",
       "      <th>CONTACT.TYPE_Web - Input</th>\n",
       "      <th>aaDate_x</th>\n",
       "      <th>NUMBER_OF_CONTRACTS</th>\n",
       "      <th>aaDate_y</th>\n",
       "      <th>NUMBER_OF_CONTRACTS_ENDED</th>\n",
       "    </tr>\n",
       "  </thead>\n",
       "  <tbody>\n",
       "    <tr>\n",
       "      <th>0</th>\n",
       "      <td>2010-01-01</td>\n",
       "      <td>95</td>\n",
       "      <td>1.0</td>\n",
       "      <td>0.0</td>\n",
       "      <td>0.0</td>\n",
       "      <td>0.0</td>\n",
       "      <td>0.0</td>\n",
       "      <td>0.0</td>\n",
       "      <td>0.0</td>\n",
       "      <td>0.0</td>\n",
       "      <td>0.0</td>\n",
       "      <td>1.0</td>\n",
       "      <td>2010-01-01</td>\n",
       "      <td>1</td>\n",
       "      <td>2010-01-01</td>\n",
       "      <td>1.0</td>\n",
       "    </tr>\n",
       "    <tr>\n",
       "      <th>1</th>\n",
       "      <td>2010-01-02</td>\n",
       "      <td>258</td>\n",
       "      <td>2.0</td>\n",
       "      <td>0.0</td>\n",
       "      <td>0.0</td>\n",
       "      <td>0.0</td>\n",
       "      <td>0.0</td>\n",
       "      <td>0.0</td>\n",
       "      <td>0.0</td>\n",
       "      <td>0.0</td>\n",
       "      <td>0.0</td>\n",
       "      <td>1.0</td>\n",
       "      <td>2010-01-02</td>\n",
       "      <td>5</td>\n",
       "      <td>2010-01-02</td>\n",
       "      <td>2.0</td>\n",
       "    </tr>\n",
       "    <tr>\n",
       "      <th>2</th>\n",
       "      <td>2010-01-04</td>\n",
       "      <td>4378</td>\n",
       "      <td>1.0</td>\n",
       "      <td>1.0</td>\n",
       "      <td>1.0</td>\n",
       "      <td>0.0</td>\n",
       "      <td>1.0</td>\n",
       "      <td>1.0</td>\n",
       "      <td>1.0</td>\n",
       "      <td>0.0</td>\n",
       "      <td>1.0</td>\n",
       "      <td>1.0</td>\n",
       "      <td>2010-01-04</td>\n",
       "      <td>57</td>\n",
       "      <td>2010-01-04</td>\n",
       "      <td>137.0</td>\n",
       "    </tr>\n",
       "    <tr>\n",
       "      <th>3</th>\n",
       "      <td>2010-01-05</td>\n",
       "      <td>3452</td>\n",
       "      <td>1.0</td>\n",
       "      <td>1.0</td>\n",
       "      <td>1.0</td>\n",
       "      <td>0.0</td>\n",
       "      <td>1.0</td>\n",
       "      <td>1.0</td>\n",
       "      <td>1.0</td>\n",
       "      <td>0.0</td>\n",
       "      <td>1.0</td>\n",
       "      <td>1.0</td>\n",
       "      <td>2010-01-05</td>\n",
       "      <td>70</td>\n",
       "      <td>2010-01-05</td>\n",
       "      <td>52.0</td>\n",
       "    </tr>\n",
       "    <tr>\n",
       "      <th>4</th>\n",
       "      <td>2010-01-07</td>\n",
       "      <td>3914</td>\n",
       "      <td>2.0</td>\n",
       "      <td>1.0</td>\n",
       "      <td>1.0</td>\n",
       "      <td>0.0</td>\n",
       "      <td>1.0</td>\n",
       "      <td>1.0</td>\n",
       "      <td>1.0</td>\n",
       "      <td>0.0</td>\n",
       "      <td>1.0</td>\n",
       "      <td>1.0</td>\n",
       "      <td>2010-01-07</td>\n",
       "      <td>102</td>\n",
       "      <td>2010-01-07</td>\n",
       "      <td>112.0</td>\n",
       "    </tr>\n",
       "  </tbody>\n",
       "</table>\n",
       "</div>"
      ],
      "text/plain": [
       "   START.DATE  Contacts  CONTACT.TYPE_Call - Input  CONTACT.TYPE_Fax - Input  \\\n",
       "0  2010-01-01        95                        1.0                       0.0   \n",
       "1  2010-01-02       258                        2.0                       0.0   \n",
       "2  2010-01-04      4378                        1.0                       1.0   \n",
       "3  2010-01-05      3452                        1.0                       1.0   \n",
       "4  2010-01-07      3914                        2.0                       1.0   \n",
       "\n",
       "   CONTACT.TYPE_Fax Acknowledgement - Input  \\\n",
       "0                                       0.0   \n",
       "1                                       0.0   \n",
       "2                                       1.0   \n",
       "3                                       1.0   \n",
       "4                                       1.0   \n",
       "\n",
       "   CONTACT.TYPE_Installation Report - Input  CONTACT.TYPE_Internal Management  \\\n",
       "0                                       0.0                               0.0   \n",
       "1                                       0.0                               0.0   \n",
       "2                                       0.0                               1.0   \n",
       "3                                       0.0                               1.0   \n",
       "4                                       0.0                               1.0   \n",
       "\n",
       "   CONTACT.TYPE_Mail - Input  CONTACT.TYPE_Mail - Recieved  \\\n",
       "0                        0.0                           0.0   \n",
       "1                        0.0                           0.0   \n",
       "2                        1.0                           1.0   \n",
       "3                        1.0                           1.0   \n",
       "4                        1.0                           1.0   \n",
       "\n",
       "   CONTACT.TYPE_Tweet - Input  CONTACT.TYPE_Visit  CONTACT.TYPE_Web - Input  \\\n",
       "0                         0.0                 0.0                       1.0   \n",
       "1                         0.0                 0.0                       1.0   \n",
       "2                         0.0                 1.0                       1.0   \n",
       "3                         0.0                 1.0                       1.0   \n",
       "4                         0.0                 1.0                       1.0   \n",
       "\n",
       "     aaDate_x  NUMBER_OF_CONTRACTS    aaDate_y  NUMBER_OF_CONTRACTS_ENDED  \n",
       "0  2010-01-01                    1  2010-01-01                        1.0  \n",
       "1  2010-01-02                    5  2010-01-02                        2.0  \n",
       "2  2010-01-04                   57  2010-01-04                      137.0  \n",
       "3  2010-01-05                   70  2010-01-05                       52.0  \n",
       "4  2010-01-07                  102  2010-01-07                      112.0  "
      ]
     },
     "execution_count": 76,
     "metadata": {},
     "output_type": "execute_result"
    }
   ],
   "source": [
    "df_new_n.head()"
   ]
  },
  {
   "cell_type": "code",
   "execution_count": 77,
   "metadata": {},
   "outputs": [
    {
     "data": {
      "image/png": "[encoded data removed]",
      "text/plain": [
       "<matplotlib.figure.Figure at 0x12617e48>"
      ]
     },
     "metadata": {},
     "output_type": "display_data"
    }
   ],
   "source": [
    "labels = ['START.DATE','NUMBER_OF_CONTRACTS','NUMBER_OF_CONTRACTS_ENDED','Contacts']\n",
    "df_new_n[labels].head()\n",
    "df_new_n[labels].plot()\n",
    "plt.show()"
   ]
  },
  {
   "cell_type": "code",
   "execution_count": 78,
   "metadata": {},
   "outputs": [
    {
     "ename": "AttributeError",
     "evalue": "'StandardScaler' object has no attribute 'fit_tranform'",
     "output_type": "error",
     "traceback": [
      "\u001b[1;31m---------------------------------------------------------------------------\u001b[0m",
      "\u001b[1;31mAttributeError\u001b[0m                            Traceback (most recent call last)",
      "\u001b[1;32m<ipython-input-78-d3ed8b612985>\u001b[0m in \u001b[0;36m<module>\u001b[1;34m()\u001b[0m\n\u001b[0;32m      3\u001b[0m \u001b[0mss\u001b[0m \u001b[1;33m=\u001b[0m \u001b[0mStandardScaler\u001b[0m\u001b[1;33m(\u001b[0m\u001b[1;33m)\u001b[0m\u001b[1;33m\u001b[0m\u001b[0m\n\u001b[0;32m      4\u001b[0m \u001b[1;33m\u001b[0m\u001b[0m\n\u001b[1;32m----> 5\u001b[1;33m \u001b[0mss\u001b[0m\u001b[1;33m.\u001b[0m\u001b[0mfit_tranform\u001b[0m\u001b[1;33m(\u001b[0m\u001b[0mdf_att\u001b[0m\u001b[1;33m)\u001b[0m\u001b[1;33m\u001b[0m\u001b[0m\n\u001b[0m",
      "\u001b[1;31mAttributeError\u001b[0m: 'StandardScaler' object has no attribute 'fit_tranform'"
     ]
    }
   ],
   "source": [
    "df_att = df_new_n[labels];\n",
    "\n",
    "ss = StandardScaler()\n",
    "\n",
    "ss.fit(df_att)"
   ]
  },
  {
   "cell_type": "code",
   "execution_count": 86,
   "metadata": {},
   "outputs": [
    {
     "data": {
      "text/html": [
       "<div>\n",
       "<table border=\"1\" class=\"dataframe\">\n",
       "  <thead>\n",
       "    <tr style=\"text-align: right;\">\n",
       "      <th></th>\n",
       "      <th>START.DATE</th>\n",
       "      <th>NUMBER_OF_CONTRACTS</th>\n",
       "      <th>NUMBER_OF_CONTRACTS_ENDED</th>\n",
       "      <th>Contacts</th>\n",
       "    </tr>\n",
       "  </thead>\n",
       "  <tbody>\n",
       "    <tr>\n",
       "      <th>0</th>\n",
       "      <td>2010-01-01</td>\n",
       "      <td>1</td>\n",
       "      <td>1.0</td>\n",
       "      <td>95</td>\n",
       "    </tr>\n",
       "    <tr>\n",
       "      <th>1</th>\n",
       "      <td>2010-01-02</td>\n",
       "      <td>5</td>\n",
       "      <td>2.0</td>\n",
       "      <td>258</td>\n",
       "    </tr>\n",
       "    <tr>\n",
       "      <th>2</th>\n",
       "      <td>2010-01-04</td>\n",
       "      <td>57</td>\n",
       "      <td>137.0</td>\n",
       "      <td>4378</td>\n",
       "    </tr>\n",
       "    <tr>\n",
       "      <th>3</th>\n",
       "      <td>2010-01-05</td>\n",
       "      <td>70</td>\n",
       "      <td>52.0</td>\n",
       "      <td>3452</td>\n",
       "    </tr>\n",
       "    <tr>\n",
       "      <th>4</th>\n",
       "      <td>2010-01-07</td>\n",
       "      <td>102</td>\n",
       "      <td>112.0</td>\n",
       "      <td>3914</td>\n",
       "    </tr>\n",
       "  </tbody>\n",
       "</table>\n",
       "</div>"
      ],
      "text/plain": [
       "   START.DATE  NUMBER_OF_CONTRACTS  NUMBER_OF_CONTRACTS_ENDED  Contacts\n",
       "0  2010-01-01                    1                        1.0        95\n",
       "1  2010-01-02                    5                        2.0       258\n",
       "2  2010-01-04                   57                      137.0      4378\n",
       "3  2010-01-05                   70                       52.0      3452\n",
       "4  2010-01-07                  102                      112.0      3914"
      ]
     },
     "execution_count": 86,
     "metadata": {},
     "output_type": "execute_result"
    }
   ],
   "source": [
    "df_att = df_new_n[labels];\n",
    "df_att.head()"
   ]
  },
  {
   "cell_type": "code",
   "execution_count": 88,
   "metadata": {
    "collapsed": true
   },
   "outputs": [],
   "source": [
    "df_k = df_att.drop(df_att[['START.DATE']],axis=1)"
   ]
  },
  {
   "cell_type": "code",
   "execution_count": 89,
   "metadata": {},
   "outputs": [
    {
     "data": {
      "text/plain": [
       "StandardScaler(copy=True, with_mean=True, with_std=True)"
      ]
     },
     "execution_count": 89,
     "metadata": {},
     "output_type": "execute_result"
    }
   ],
   "source": [
    "ss = StandardScaler()\n",
    "\n",
    "ss.fit(df_k)"
   ]
  },
  {
   "cell_type": "code",
   "execution_count": 95,
   "metadata": {
    "collapsed": true
   },
   "outputs": [],
   "source": [
    "from sklearn.preprocessing import scale\n",
    "\n",
    "dk = scale(df_k)"
   ]
  },
  {
   "cell_type": "code",
   "execution_count": 101,
   "metadata": {},
   "outputs": [
    {
     "name": "stdout",
     "output_type": "stream",
     "text": [
      "{'Scaled_data': array([[-1.55627092, -1.33022931, -1.55296462],\n",
      "       [-1.47611145, -1.30973859, -1.4742421 ],\n",
      "       [-0.43403834,  1.45650896,  0.515554  ],\n",
      "       ..., \n",
      "       [ 0.22727729,  0.12461199,  0.46532614],\n",
      "       [ 0.30743676, -0.36716535,  0.23398819],\n",
      "       [-1.51619119, -1.20728498, -1.36074645]])}\n"
     ]
    }
   ],
   "source": [
    "#dk\n",
    "ss =  df_att[['START.DATE']]\n",
    "dfin = {\"Scaled_data\": dk}\n",
    "\n",
    "print dfin"
   ]
  },
  {
   "cell_type": "code",
   "execution_count": 113,
   "metadata": {
    "collapsed": true
   },
   "outputs": [],
   "source": [
    "y = df_att.NUMBER_OF_CONTRACTS.values\n",
    "X = dk[:,0:2]\n"
   ]
  },
  {
   "cell_type": "code",
   "execution_count": 114,
   "metadata": {
    "collapsed": true
   },
   "outputs": [],
   "source": [
    "X_train, X_test, y_train, y_test = train_test_split(X, y, test_size=0.2,random_state=42 )"
   ]
  },
  {
   "cell_type": "code",
   "execution_count": 116,
   "metadata": {},
   "outputs": [
    {
     "name": "stdout",
     "output_type": "stream",
     "text": [
      "0.639839034205\n",
      "[[10  0  0 ...,  0  0  0]\n",
      " [ 0 10  0 ...,  0  0  0]\n",
      " [ 0  0  7 ...,  0  0  0]\n",
      " ..., \n",
      " [ 0  0  0 ...,  0  0  0]\n",
      " [ 0  0  0 ...,  0  0  0]\n",
      " [ 0  0  0 ...,  0  0  0]]\n"
     ]
    },
    {
     "data": {
      "text/plain": [
       "['RF2.pkl']"
      ]
     },
     "execution_count": 116,
     "metadata": {},
     "output_type": "execute_result"
    }
   ],
   "source": [
    "from sklearn.ensemble import RandomForestClassifier\n",
    "RF = RandomForestClassifier()\n",
    "\n",
    "RF.fit(X_train,y_train)\n",
    "pred_rf = RF.predict(X_test)\n",
    "pred_rf_proba = RF.predict_proba(X_test)\n",
    "\n",
    "score_rf = RF.score(X_test,y_test)\n",
    "print score_rf\n",
    "\n",
    "print(confusion_matrix(y_test,pred_rf))\n",
    "#print(classification_report(y_test,pred_rf))\n",
    "#print log_loss(y_test,pred_rf_proba)\n",
    "\n",
    "joblib.dump(RF, 'RF2.pkl')"
   ]
  },
  {
   "cell_type": "code",
   "execution_count": 117,
   "metadata": {},
   "outputs": [
    {
     "name": "stdout",
     "output_type": "stream",
     "text": [
      "0.985915492958\n",
      "[[10  0  0 ...,  0  0  0]\n",
      " [ 0 10  0 ...,  0  0  0]\n",
      " [ 0  0  7 ...,  0  0  0]\n",
      " ..., \n",
      " [ 0  0  0 ...,  0  0  0]\n",
      " [ 0  0  0 ...,  0  0  0]\n",
      " [ 0  0  0 ...,  0  1  0]]\n",
      "             precision    recall  f1-score   support\n",
      "\n",
      "          1       1.00      1.00      1.00        10\n",
      "          2       1.00      1.00      1.00        10\n",
      "          3       1.00      1.00      1.00         7\n",
      "          4       1.00      1.00      1.00        10\n",
      "          5       1.00      1.00      1.00         7\n",
      "          6       1.00      1.00      1.00         5\n",
      "          7       1.00      1.00      1.00        12\n",
      "          8       1.00      1.00      1.00         5\n",
      "          9       1.00      1.00      1.00         5\n",
      "         10       1.00      1.00      1.00         3\n",
      "         11       1.00      1.00      1.00         7\n",
      "         12       1.00      1.00      1.00         8\n",
      "         13       1.00      1.00      1.00         7\n",
      "         14       1.00      1.00      1.00         1\n",
      "         15       1.00      1.00      1.00         2\n",
      "         16       1.00      1.00      1.00        11\n",
      "         17       1.00      1.00      1.00         4\n",
      "         18       1.00      1.00      1.00         5\n",
      "         19       1.00      1.00      1.00         3\n",
      "         20       1.00      1.00      1.00         5\n",
      "         21       1.00      1.00      1.00         4\n",
      "         22       1.00      1.00      1.00         2\n",
      "         23       1.00      1.00      1.00         2\n",
      "         24       1.00      1.00      1.00         1\n",
      "         25       1.00      1.00      1.00         5\n",
      "         27       1.00      1.00      1.00         2\n",
      "         28       1.00      1.00      1.00         2\n",
      "         29       1.00      1.00      1.00         1\n",
      "         30       1.00      1.00      1.00         3\n",
      "         33       0.00      0.00      0.00         1\n",
      "         34       0.50      1.00      0.67         1\n",
      "         40       1.00      1.00      1.00         1\n",
      "         46       1.00      1.00      1.00         1\n",
      "         47       1.00      1.00      1.00         1\n",
      "         48       1.00      1.00      1.00         4\n",
      "         50       1.00      1.00      1.00         1\n",
      "         51       1.00      1.00      1.00         1\n",
      "         52       1.00      1.00      1.00         1\n",
      "         55       1.00      1.00      1.00         1\n",
      "         58       1.00      1.00      1.00         1\n",
      "         59       1.00      1.00      1.00         2\n",
      "         61       1.00      1.00      1.00         2\n",
      "         62       1.00      1.00      1.00         1\n",
      "         63       1.00      1.00      1.00         1\n",
      "         65       1.00      1.00      1.00         3\n",
      "         66       1.00      1.00      1.00         1\n",
      "         67       1.00      1.00      1.00         1\n",
      "         69       1.00      1.00      1.00         1\n",
      "         72       1.00      1.00      1.00         1\n",
      "         73       1.00      1.00      1.00         2\n",
      "         74       1.00      1.00      1.00         2\n",
      "         75       1.00      1.00      1.00         2\n",
      "         76       1.00      1.00      1.00         1\n",
      "         77       1.00      1.00      1.00         2\n",
      "         78       1.00      1.00      1.00         1\n",
      "         79       1.00      1.00      1.00         2\n",
      "         80       1.00      1.00      1.00         3\n",
      "         81       1.00      1.00      1.00         1\n",
      "         82       1.00      1.00      1.00         3\n",
      "         83       1.00      1.00      1.00         5\n",
      "         84       1.00      1.00      1.00         2\n",
      "         85       1.00      1.00      1.00         3\n",
      "         86       1.00      1.00      1.00         3\n",
      "         87       1.00      1.00      1.00         4\n",
      "         88       1.00      1.00      1.00         3\n",
      "         89       1.00      1.00      1.00         3\n",
      "         90       1.00      1.00      1.00         6\n",
      "         91       1.00      1.00      1.00         6\n",
      "         92       1.00      1.00      1.00         8\n",
      "         93       1.00      1.00      1.00         7\n",
      "         94       1.00      1.00      1.00         6\n",
      "         95       1.00      1.00      1.00         2\n",
      "         96       1.00      1.00      1.00         5\n",
      "         97       1.00      1.00      1.00         8\n",
      "         98       1.00      1.00      1.00        10\n",
      "         99       1.00      1.00      1.00         4\n",
      "        100       1.00      1.00      1.00         4\n",
      "        101       1.00      1.00      1.00         2\n",
      "        102       1.00      1.00      1.00         5\n",
      "        103       1.00      1.00      1.00         8\n",
      "        104       1.00      1.00      1.00         2\n",
      "        105       1.00      1.00      1.00         6\n",
      "        106       0.86      1.00      0.92         6\n",
      "        107       1.00      1.00      1.00         5\n",
      "        108       1.00      1.00      1.00         5\n",
      "        109       1.00      1.00      1.00         6\n",
      "        110       1.00      1.00      1.00         6\n",
      "        111       1.00      1.00      1.00         3\n",
      "        112       1.00      1.00      1.00         7\n",
      "        113       1.00      1.00      1.00         4\n",
      "        114       1.00      1.00      1.00         6\n",
      "        115       1.00      1.00      1.00         7\n",
      "        116       1.00      1.00      1.00         5\n",
      "        117       1.00      1.00      1.00         8\n",
      "        118       1.00      1.00      1.00         5\n",
      "        119       1.00      1.00      1.00         2\n",
      "        120       1.00      1.00      1.00         6\n",
      "        121       1.00      1.00      1.00         3\n",
      "        122       1.00      1.00      1.00         7\n",
      "        123       1.00      1.00      1.00         2\n",
      "        124       1.00      1.00      1.00         4\n",
      "        125       1.00      1.00      1.00         2\n",
      "        126       1.00      1.00      1.00         3\n",
      "        127       1.00      1.00      1.00         6\n",
      "        128       1.00      1.00      1.00         2\n",
      "        129       1.00      1.00      1.00         6\n",
      "        130       1.00      1.00      1.00         3\n",
      "        131       1.00      1.00      1.00         6\n",
      "        132       1.00      1.00      1.00         5\n",
      "        133       1.00      1.00      1.00         5\n",
      "        134       1.00      1.00      1.00         6\n",
      "        135       1.00      1.00      1.00         2\n",
      "        136       1.00      1.00      1.00         1\n",
      "        137       1.00      1.00      1.00         2\n",
      "        138       1.00      1.00      1.00         3\n",
      "        139       1.00      1.00      1.00         3\n",
      "        140       1.00      1.00      1.00         3\n",
      "        141       1.00      1.00      1.00         2\n",
      "        142       1.00      1.00      1.00         3\n",
      "        145       1.00      1.00      1.00         3\n",
      "        146       1.00      1.00      1.00         2\n",
      "        147       1.00      1.00      1.00         1\n",
      "        148       1.00      1.00      1.00         2\n",
      "        149       1.00      1.00      1.00         2\n",
      "        154       1.00      1.00      1.00         1\n",
      "        157       1.00      1.00      1.00         2\n",
      "        159       1.00      1.00      1.00         2\n",
      "        160       1.00      1.00      1.00         1\n",
      "        161       1.00      1.00      1.00         2\n",
      "        162       1.00      1.00      1.00         1\n",
      "        163       1.00      1.00      1.00         1\n",
      "        165       0.00      0.00      0.00         1\n",
      "        166       0.00      0.00      0.00         0\n",
      "        169       1.00      1.00      1.00         1\n",
      "        171       1.00      1.00      1.00         1\n",
      "        172       1.00      1.00      1.00         1\n",
      "        175       0.00      0.00      0.00         0\n",
      "        176       0.00      0.00      0.00         1\n",
      "        177       0.00      0.00      0.00         1\n",
      "        178       0.00      0.00      0.00         1\n",
      "        179       0.00      0.00      0.00         0\n",
      "        189       1.00      1.00      1.00         1\n",
      "        195       0.00      0.00      0.00         1\n",
      "        206       0.00      0.00      0.00         0\n",
      "        214       0.00      0.00      0.00         1\n",
      "\n",
      "avg / total       0.98      0.99      0.98       497\n",
      "\n"
     ]
    },
    {
     "name": "stderr",
     "output_type": "stream",
     "text": [
      "C:\\Anaconda2\\lib\\site-packages\\sklearn\\metrics\\classification.py:1113: UndefinedMetricWarning: Precision and F-score are ill-defined and being set to 0.0 in labels with no predicted samples.\n",
      "  'precision', 'predicted', average, warn_for)\n",
      "C:\\Anaconda2\\lib\\site-packages\\sklearn\\metrics\\classification.py:1115: UndefinedMetricWarning: Recall and F-score are ill-defined and being set to 0.0 in labels with no true samples.\n",
      "  'recall', 'true', average, warn_for)\n"
     ]
    },
    {
     "data": {
      "text/plain": [
       "['GBC2.pkl']"
      ]
     },
     "execution_count": 117,
     "metadata": {},
     "output_type": "execute_result"
    }
   ],
   "source": [
    "#steps_GBC = [('ss',StandardScaler()),('pca', PCA()),('GradientBoosterClassifier', GradientBoostingClassifier())]\n",
    "GBC = GradientBoostingClassifier()\n",
    "#GBC = Pipeline(steps_GBC)\n",
    "GBC.fit(X_train,y_train)\n",
    "pred_gbc = GBC.predict(X_test)\n",
    "pred_gbc_proba = GBC.predict_proba(X_test)\n",
    "\n",
    "score_gbc = GBC.score(X_test,y_test)\n",
    "print score_gbc\n",
    "\n",
    "print(confusion_matrix(y_test,pred_gbc))\n",
    "print(classification_report(y_test,pred_gbc))\n",
    "#print log_loss(y_test,pred_gbc_proba)\n",
    "\n",
    "joblib.dump(GBC, 'GBC2.pkl')"
   ]
  },
  {
   "cell_type": "code",
   "execution_count": 119,
   "metadata": {},
   "outputs": [
    {
     "name": "stdout",
     "output_type": "stream",
     "text": [
      "16.0824949698\n"
     ]
    }
   ],
   "source": [
    "from sklearn.metrics import mean_squared_error\n",
    "print mean_squared_error(y_test, pred_gbc)"
   ]
  },
  {
   "cell_type": "code",
   "execution_count": 120,
   "metadata": {},
   "outputs": [
    {
     "data": {
      "text/html": [
       "<div>\n",
       "<table border=\"1\" class=\"dataframe\">\n",
       "  <thead>\n",
       "    <tr style=\"text-align: right;\">\n",
       "      <th></th>\n",
       "      <th>START.DATE</th>\n",
       "      <th>NUMBER_OF_CONTRACTS</th>\n",
       "      <th>NUMBER_OF_CONTRACTS_ENDED</th>\n",
       "      <th>Contacts</th>\n",
       "    </tr>\n",
       "  </thead>\n",
       "  <tbody>\n",
       "    <tr>\n",
       "      <th>2477</th>\n",
       "      <td>2016-12-27</td>\n",
       "      <td>64</td>\n",
       "      <td>68.0</td>\n",
       "      <td>4300</td>\n",
       "    </tr>\n",
       "    <tr>\n",
       "      <th>2478</th>\n",
       "      <td>2016-12-28</td>\n",
       "      <td>89</td>\n",
       "      <td>47.0</td>\n",
       "      <td>4343</td>\n",
       "    </tr>\n",
       "    <tr>\n",
       "      <th>2479</th>\n",
       "      <td>2016-12-29</td>\n",
       "      <td>90</td>\n",
       "      <td>72.0</td>\n",
       "      <td>4274</td>\n",
       "    </tr>\n",
       "    <tr>\n",
       "      <th>2480</th>\n",
       "      <td>2016-12-30</td>\n",
       "      <td>94</td>\n",
       "      <td>48.0</td>\n",
       "      <td>3795</td>\n",
       "    </tr>\n",
       "    <tr>\n",
       "      <th>2481</th>\n",
       "      <td>2016-12-31</td>\n",
       "      <td>3</td>\n",
       "      <td>7.0</td>\n",
       "      <td>493</td>\n",
       "    </tr>\n",
       "  </tbody>\n",
       "</table>\n",
       "</div>"
      ],
      "text/plain": [
       "      START.DATE  NUMBER_OF_CONTRACTS  NUMBER_OF_CONTRACTS_ENDED  Contacts\n",
       "2477  2016-12-27                   64                       68.0      4300\n",
       "2478  2016-12-28                   89                       47.0      4343\n",
       "2479  2016-12-29                   90                       72.0      4274\n",
       "2480  2016-12-30                   94                       48.0      3795\n",
       "2481  2016-12-31                    3                        7.0       493"
      ]
     },
     "execution_count": 120,
     "metadata": {},
     "output_type": "execute_result"
    }
   ],
   "source": [
    "df_att.tail()"
   ]
  },
  {
   "cell_type": "code",
   "execution_count": 126,
   "metadata": {
    "collapsed": true
   },
   "outputs": [],
   "source": [
    "labels2 = ['START.DATE','aaDate_x','aaDate_y','NUMBER_OF_CONTRACTS'] \n",
    "dfff= df_new_n.drop(labels2,axis=1)\n",
    "\n",
    "#df_k2 = dfff.drop(df_att[['START.DATE']],axis=1)\n",
    "dk2 = scale(dfff)\n",
    "ss2 =  df_new_n[['START.DATE']]\n",
    "dfin2 = {\"Scaled_data\": dk2}\n",
    "y2 = df_new_n.NUMBER_OF_CONTRACTS.values\n"
   ]
  },
  {
   "cell_type": "code",
   "execution_count": 127,
   "metadata": {},
   "outputs": [
    {
     "name": "stdout",
     "output_type": "stream",
     "text": [
      "[[-1.55296462 -0.51482094 -1.67883124 ..., -1.53577104 -0.03796057\n",
      "  -1.33022931]\n",
      " [-1.4742421   1.93304414 -1.67883124 ..., -1.53577104 -0.03796057\n",
      "  -1.30973859]\n",
      " [ 0.515554   -0.51482094  0.59317483 ...,  0.65113873 -0.03796057\n",
      "   1.45650896]\n",
      " ..., \n",
      " [ 0.46532614 -0.51482094  0.59317483 ...,  0.65113873 -0.03796057\n",
      "   0.12461199]\n",
      " [ 0.23398819 -0.51482094  0.59317483 ...,  0.65113873 -0.03796057\n",
      "  -0.36716535]\n",
      " [-1.36074645 -0.51482094 -1.67883124 ..., -1.53577104 -0.03796057\n",
      "  -1.20728498]]\n"
     ]
    }
   ],
   "source": [
    "print dk2"
   ]
  },
  {
   "cell_type": "code",
   "execution_count": 128,
   "metadata": {
    "collapsed": true
   },
   "outputs": [],
   "source": [
    "X2 = dk2\n",
    "X2_train, X2_test, y2_train, y2_test = train_test_split(X2, y2, test_size=0.2,random_state=42 )"
   ]
  },
  {
   "cell_type": "code",
   "execution_count": 129,
   "metadata": {},
   "outputs": [
    {
     "name": "stdout",
     "output_type": "stream",
     "text": [
      "0.0181086519115\n"
     ]
    },
    {
     "data": {
      "text/plain": [
       "['GBC3.pkl']"
      ]
     },
     "execution_count": 129,
     "metadata": {},
     "output_type": "execute_result"
    }
   ],
   "source": [
    "#steps_GBC = [('ss',StandardScaler()),('pca', PCA()),('GradientBoosterClassifier', GradientBoostingClassifier())]\n",
    "GBC2 = GradientBoostingClassifier()\n",
    "#GBC = Pipeline(steps_GBC)\n",
    "GBC2.fit(X2_train,y2_train)\n",
    "pred_gbc2 = GBC2.predict(X2_test)\n",
    "pred_gbc_proba2 = GBC2.predict_proba(X2_test)\n",
    "\n",
    "score_gbc2 = GBC2.score(X2_test,y2_test)\n",
    "print score_gbc2\n",
    "\n",
    "#print(confusion_matrix(y2_test,pred_gbc2))\n",
    "#print(classification_report(y2_test,pred_gbc2))\n",
    "#print log_loss(y_test,pred_gbc_proba)\n",
    "\n",
    "joblib.dump(GBC, 'GBC3.pkl')"
   ]
  },
  {
   "cell_type": "code",
   "execution_count": 131,
   "metadata": {},
   "outputs": [
    {
     "name": "stdout",
     "output_type": "stream",
     "text": [
      "0.985915492958\n"
     ]
    }
   ],
   "source": [
    "score_gbc3 = GBC.score(X_test,y_test)\n",
    "print score_gbc3"
   ]
  },
  {
   "cell_type": "code",
   "execution_count": null,
   "metadata": {
    "collapsed": true
   },
   "outputs": [],
   "source": []
  }
 ],
 "metadata": {
  "anaconda-cloud": {},
  "kernelspec": {
   "display_name": "Python [Root]",
   "language": "python",
   "name": "Python [Root]"
  },
  "language_info": {
   "codemirror_mode": {
    "name": "ipython",
    "version": 2
   },
   "file_extension": ".py",
   "mimetype": "text/x-python",
   "name": "python",
   "nbconvert_exporter": "python",
   "pygments_lexer": "ipython2",
   "version": "2.7.11"
  }
 },
 "nbformat": 4,
 "nbformat_minor": 1
}
